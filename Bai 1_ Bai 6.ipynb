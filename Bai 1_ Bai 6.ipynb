{
 "cells": [
  {
   "cell_type": "code",
   "execution_count": 3,
   "metadata": {},
   "outputs": [
    {
     "name": "stdout",
     "output_type": "stream",
     "text": [
      "10\n"
     ]
    }
   ],
   "source": [
    "#Bài 1: Nhập vào số n, hãy nhân n lên cho 3, rồi cộng 1 sau đó in kết quả ra màn hình\n",
    "\n",
    "\n",
    "n = int(input(\"Nhập số n: \"))\n",
    "result = n * 3 + 1\n",
    "print (result)\n",
    "\n",
    "#Lưu ý: có thể thay result bằng n. Nhưng suggest nên thêm biến result vì có thể sẽ dùng lại biến n cho trước."
   ]
  },
  {
   "cell_type": "code",
   "execution_count": 6,
   "metadata": {},
   "outputs": [
    {
     "name": "stdout",
     "output_type": "stream",
     "text": [
      "3\n"
     ]
    }
   ],
   "source": [
    "#Bài 2: Nhập vào số n, hãy mũ 2 rồi chia cho 3, sau đó in kết quả ra màn hình\n",
    "\n",
    "n = int(input(\"Nhập số n: \"))\n",
    "result = (n ** 2)/3\n",
    "print (int(result))"
   ]
  },
  {
   "cell_type": "code",
   "execution_count": 8,
   "metadata": {},
   "outputs": [
    {
     "name": "stdout",
     "output_type": "stream",
     "text": [
      "Nhiệt độ từ 1 °C sẽ thành 33.8 °F\n"
     ]
    }
   ],
   "source": [
    "#Bài 3: Nhập vào nhiệt độ C, in ra nhiệt độ F\n",
    "\n",
    "Celcius = int(input(\"Nhập nhiệt độ bạn muốn: \"))\n",
    "Fahrenheit = (Celcius * (9/5)) + 32\n",
    "print (\"Nhiệt độ từ\", Celcius,'°C sẽ thành', Fahrenheit,'°F')"
   ]
  },
  {
   "cell_type": "code",
   "execution_count": 10,
   "metadata": {},
   "outputs": [
    {
     "name": "stdout",
     "output_type": "stream",
     "text": [
      "False\n"
     ]
    }
   ],
   "source": [
    "#Bài 4: Nhập vào một số nguyên a, nếu a chia hết cho 2 thì in ra True, ngược lại in ra False\n",
    "\n",
    "a = int(input(\"Nhập số a: \"))\n",
    "if a % 2 == 0:\n",
    "    print (True)\n",
    "else:\n",
    "    print (False)"
   ]
  },
  {
   "cell_type": "code",
   "execution_count": 16,
   "metadata": {},
   "outputs": [
    {
     "name": "stdout",
     "output_type": "stream",
     "text": [
      "True\n"
     ]
    }
   ],
   "source": [
    "#Bài 5: Nhập vào số nguyên a, nếu a là số chia hết cho 3 và nằm trong khoảng từ 50 - 100 thì in ra True, ngược lại in ra False\n",
    "\n",
    "a = int (input(\"Nhập số a: \"))\n",
    "if a >= 50 and a <= 100:\n",
    "    if a % 3 == 0:\n",
    "        print (True)\n",
    "    else:\n",
    "        print (False)\n",
    "else:\n",
    "    print (False)"
   ]
  },
  {
   "cell_type": "code",
   "execution_count": null,
   "metadata": {},
   "outputs": [],
   "source": [
    "#Bài 6: Nhập vào số nguyên a, nếu a là số chia hết cho 5 nhưng KHÔNG nằm trong khoảng từ 20 - 70 thì in ra True, ngược lại in ra False\n",
    "\n",
    "a = int(input(\"Nhập số a: \"))\n",
    "if a >= 20 and a <= 70:\n",
    "    print (False)\n",
    "else:\n",
    "    if a % 5 == 0:\n",
    "        print (True)\n",
    "    else:\n",
    "        print (False)"
   ]
  }
 ],
 "metadata": {
  "kernelspec": {
   "display_name": "base",
   "language": "python",
   "name": "python3"
  },
  "language_info": {
   "codemirror_mode": {
    "name": "ipython",
    "version": 3
   },
   "file_extension": ".py",
   "mimetype": "text/x-python",
   "name": "python",
   "nbconvert_exporter": "python",
   "pygments_lexer": "ipython3",
   "version": "3.11.4"
  }
 },
 "nbformat": 4,
 "nbformat_minor": 2
}
