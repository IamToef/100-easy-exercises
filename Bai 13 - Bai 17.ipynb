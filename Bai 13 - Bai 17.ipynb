{
 "cells": [
  {
   "cell_type": "code",
   "execution_count": 11,
   "metadata": {},
   "outputs": [
    {
     "name": "stdout",
     "output_type": "stream",
     "text": [
      "This number is larger than 10\n"
     ]
    }
   ],
   "source": [
    "#Bài 13: Nhập vào số nguyên dương a, nếu a lớn hơn 10 thì ta in ra đây là số lớn hơn 10\n",
    "\n",
    "a = int(input(\"Nhập số a: \"))\n",
    "\n",
    "if a > 10:\n",
    "    print (\"This number is larger than 10\")\n",
    "elif a == 10:\n",
    "    print (\"This is number 10\")\n",
    "else:\n",
    "    print (\"This number is smaller than 10\")"
   ]
  },
  {
   "cell_type": "code",
   "execution_count": 13,
   "metadata": {},
   "outputs": [
    {
     "name": "stdout",
     "output_type": "stream",
     "text": [
      "2 is the even number\n"
     ]
    }
   ],
   "source": [
    "#Bài 14: Nhập vào số nguyên dương a, nếu a là số chẵn thì in ra đây là số chẵn, ngược lại in ra đây là số lẻ\n",
    "\n",
    "a = int(input(\"Make a number: \"))\n",
    "\n",
    "if a%2 == 0:\n",
    "    print (a, \"is the even number\")\n",
    "else:\n",
    "    print (a, \"is the odd number\")"
   ]
  },
  {
   "cell_type": "code",
   "execution_count": 18,
   "metadata": {},
   "outputs": [
    {
     "name": "stdout",
     "output_type": "stream",
     "text": [
      "1.0, 2.0, 3.0 are not the 3 sides of a triangle\n"
     ]
    }
   ],
   "source": [
    "#Bài 15: Nhập vào 3 số thực dương a, b, c. Kiểm tra xem a, b, c có cấu thành độ dài của 1 tam giác được không\n",
    "\n",
    "a = float(input(\"Nhập số a\"))\n",
    "b = float(input(\"Nhập số b\"))\n",
    "c = float(input(\"Nhập số c\"))\n",
    "\n",
    "if a+b>c and a+c>b and b+c>a: #Tổng 2 cạnh > cạnh còn lại\n",
    "    print(\"{}, {}, {} are the 3 sides of a triangle\".format(a, b, c))\n",
    "else:\n",
    "    print(\"{}, {}, {} are not the 3 sides of a triangle\".format(a, b, c))"
   ]
  },
  {
   "cell_type": "code",
   "execution_count": 3,
   "metadata": {},
   "outputs": [
    {
     "name": "stdout",
     "output_type": "stream",
     "text": [
      "1.0, 1.0, 1.0 are the 3 sides of a triangle\n",
      "Tam giác đều\n",
      "Tam giác cân\n"
     ]
    }
   ],
   "source": [
    "#Bài 16: Từ bài số 15, nếu a, b, c cấu tạo thành được một tam giác, kiểm tra xem đó là tam giác gì (tam giác đều, tam giác vuông cân, tam giác vuông, tam giác cân hay tam giác thường)\n",
    "\n",
    "a = float(input(\"Nhập số a\"))\n",
    "b = float(input(\"Nhập số b\"))\n",
    "c = float(input(\"Nhập số c\"))\n",
    "\n",
    "if a+b>c and a+c>b and b+c>a:\n",
    "    print(\"{}, {}, {} are the 3 sides of a triangle\".format(a, b, c))\n",
    "    if a == b == c: #3 cạnh đều nhau => tam giác đều\n",
    "        print(\"Tam giác đều\")\n",
    "    elif a == b or b == c or a == c: #Điều kiện tam giác cân\n",
    "        if a**2 + b**2 == c**2 or b**2 + c**2 == a**2 or a**2 + c**2 == b**2: #Vuông cân\n",
    "            print(\"Tam giác vuông cân\")\n",
    "        else:\n",
    "            print(\"Tam giác cân\")\n",
    "    elif a**2 + b**2 == c**2 or b**2 + c**2 == a**2 or a**2 + c**2 == b**2: #Vuông\n",
    "        print(\"Tam giác vuông\")\n",
    "    else:\n",
    "        print(\"Tam giác thường\")\n",
    "        \n",
    "else:\n",
    "    print(\"{}, {}, {} are not the 3 sides of a triangle\".format(a, b, c))"
   ]
  },
  {
   "cell_type": "code",
   "execution_count": 12,
   "metadata": {},
   "outputs": [
    {
     "name": "stdout",
     "output_type": "stream",
     "text": [
      "Số đã sắp xếp theo thứ tự tăng dần: [1, 5, 6]\n"
     ]
    }
   ],
   "source": [
    "#Bài 17: Nhập vào 3 số a, b, c. Hãy sắp xếp 3 số a, b, c theo thứ tự tăng dần rồi in ra lại\n",
    "\n",
    "a = int(input(\"Nhập số a: \"))\n",
    "b = int(input(\"Nhập số b: \"))\n",
    "c = int(input(\"Nhập số c: \"))\n",
    "\n",
    "#Cách 1:\n",
    "result = sorted([a, b, c])\n",
    "print(\"Số đã sắp xếp theo thứ tự tăng dần:\", result)\n",
    "\n",
    "#Cách 2:\n",
    "if a > b:\n",
    "    a, b = b, a #Đổi vị trí 2 biến.\n",
    "if b > c:\n",
    "    b, c = c, b\n",
    "if a > b:\n",
    "    a, b = b, a\n",
    "\n",
    "# In ra 3 số đã sắp xếp\n",
    "print(\"Số đã sắp xếp theo thứ tự tăng dần:\", a, b, c)"
   ]
  }
 ],
 "metadata": {
  "kernelspec": {
   "display_name": "base",
   "language": "python",
   "name": "python3"
  },
  "language_info": {
   "codemirror_mode": {
    "name": "ipython",
    "version": 3
   },
   "file_extension": ".py",
   "mimetype": "text/x-python",
   "name": "python",
   "nbconvert_exporter": "python",
   "pygments_lexer": "ipython3",
   "version": "3.11.4"
  }
 },
 "nbformat": 4,
 "nbformat_minor": 2
}
