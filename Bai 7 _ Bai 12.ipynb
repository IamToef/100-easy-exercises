{
 "cells": [
  {
   "cell_type": "code",
   "execution_count": 8,
   "metadata": {},
   "outputs": [
    {
     "name": "stdout",
     "output_type": "stream",
     "text": [
      "False\n"
     ]
    }
   ],
   "source": [
    "#Bài 7: Nhập vào nguyên a và b, nếu 1 trong 2 số a và b chia hết cho 2 thì in ra True, ngược lại in ra False\n",
    "\n",
    "a = int(input(\"Nhập số a: \"))\n",
    "b = int(input(\"Nhập số b: \"))\n",
    "\n",
    "if a % 2 == 0 or b % 2 == 0: #NẾU 1 TRONG 2 => a hoặc b\n",
    "    print (True)\n",
    "else:\n",
    "    print (False)"
   ]
  },
  {
   "cell_type": "code",
   "execution_count": 11,
   "metadata": {},
   "outputs": [
    {
     "name": "stdout",
     "output_type": "stream",
     "text": [
      "1.2 là số thực\n"
     ]
    }
   ],
   "source": [
    "#Bài 8: Nhập vào số thực a, kiểm tra xem a có phải là số nguyên hay không, nếu có thì in ra True, ngược lại in ra False\n",
    "\n",
    "a = float(input(\"Nhập số a: \")) #Float là số thực\n",
    "if a == int(a): #Int ở đây là giả sử xem a nhập vô có bằng với a khi bị biến đổi thành int không (aka kiểm tra điều kiện)\n",
    "    print (True)\n",
    "else:\n",
    "    print (False)"
   ]
  },
  {
   "cell_type": "code",
   "execution_count": 21,
   "metadata": {},
   "outputs": [
    {
     "name": "stdout",
     "output_type": "stream",
     "text": [
      "True\n"
     ]
    }
   ],
   "source": [
    "#Bài 9: Nhập vào số nguyên a, kiểm tra xem a có phải là số chính phương hay không, nếu có thì in ra True, ngược lại in ra False\n",
    "\n",
    "a = int(input(\"Nhập số a: \"))\n",
    "if a >= 0:\n",
    "    closest_integer_square = int(a**0.5)**2 #Mũ 0.5 là mũ 1/2, là căn đó :))), căn xong bình phương lên\n",
    "    if closest_integer_square == a:\n",
    "        print (True)\n",
    "    else:\n",
    "        print (False)\n",
    "else:\n",
    "    print (\"Không thể thực hiện được với số âm\")"
   ]
  },
  {
   "cell_type": "code",
   "execution_count": 1,
   "metadata": {},
   "outputs": [
    {
     "name": "stdout",
     "output_type": "stream",
     "text": [
      "số tiền mà ta giữ lại là:  1 000 000\n"
     ]
    }
   ],
   "source": [
    "#Bài 10: Nhập vào lương tháng này nhận được, ta phải đưa cho vợ 90% số tiền lương đó. Hãy in ra lương ta giữ lại\n",
    "\n",
    "salary = int(input(\"Nhập tiền lương của mình: \")) * 1000000 #Phần tiền lương có thể thay đổi sang dạng khác được nhé, không nhất thiết là triệu\n",
    "taken = salary * 9/10\n",
    "received = salary - taken\n",
    "print (\"số tiền mà ta giữ lại là: \", f'{received:,.0f}'.replace(',', ' ')) # đoạn f'{received:,.0f}'.replace(',', ' ') thì trước mắt nó sẽ lấy từ đầu cho tới khúc.0f \\\n",
    "    #(có thể bỏ nó để hiểu tại sao). còn .replace là hàm, replace từ dạng 1000000 sang 1 000 000 thôi."
   ]
  },
  {
   "cell_type": "code",
   "execution_count": 2,
   "metadata": {},
   "outputs": [
    {
     "name": "stdout",
     "output_type": "stream",
     "text": [
      "6\n",
      "6\n"
     ]
    }
   ],
   "source": [
    "#Bài 11: Nhập vào 3 số a, b, c. In ra kết quả là tổng của ba số đó\n",
    "\n",
    "a = int(input(\"Nhập số a: \"))\n",
    "b = int(input(\"Nhập số b: \"))\n",
    "c = int(input(\"Nhập số c: \"))\n",
    "\n",
    "result = a + b + c\n",
    "#Cách 1:\n",
    "print (result)\n",
    "#Cách 2:\n",
    "print (a + b + c)"
   ]
  },
  {
   "cell_type": "code",
   "execution_count": 11,
   "metadata": {},
   "outputs": [
    {
     "name": "stdout",
     "output_type": "stream",
     "text": [
      "125\n",
      "True\n"
     ]
    }
   ],
   "source": [
    "#Bài 12: Nhập vào 3 số a, b, c. Tính và in ra d = (a + b)^c. Nếu d là số trong khoảng từ 100 - 200 thì in ra True, ngược lại in ra False\n",
    "\n",
    "a = int(input(\"Nhập số a: \"))\n",
    "b = int(input(\"Nhập số b: \"))\n",
    "c = int(input(\"Nhập số c: \"))\n",
    "\n",
    "d = (a + b)**c\n",
    "print (d)\n",
    "\n",
    "if d >= 100 and d <= 200:\n",
    "    print (True)\n",
    "else:\n",
    "    print (False)\n",
    "    \n",
    "#có thể dùng 3 số 2 3 2 (tự thay đổi vị trí) để tìm ra kết quả. "
   ]
  }
 ],
 "metadata": {
  "kernelspec": {
   "display_name": "base",
   "language": "python",
   "name": "python3"
  },
  "language_info": {
   "codemirror_mode": {
    "name": "ipython",
    "version": 3
   },
   "file_extension": ".py",
   "mimetype": "text/x-python",
   "name": "python",
   "nbconvert_exporter": "python",
   "pygments_lexer": "ipython3",
   "version": "3.11.4"
  }
 },
 "nbformat": 4,
 "nbformat_minor": 2
}
