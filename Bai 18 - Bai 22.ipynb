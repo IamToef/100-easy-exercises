{
 "cells": [
  {
   "cell_type": "code",
   "execution_count": null,
   "metadata": {},
   "outputs": [],
   "source": [
    "#Bài 18: Giải và biện luận phương trình ax + b = 0\n",
    "\n",
    "a = float(input(\"Nhập hệ số a: \"))\n",
    "b = float(input(\"Nhập hệ số b: \"))\n",
    "\n",
    "# Giải phương trình ax + b = 0\n",
    "if a == 0:\n",
    "    if b == 0:\n",
    "        print(\"Phương trình có vô số nghiệm.\")\n",
    "    else:\n",
    "        print(\"Phương trình vô nghiệm.\")\n",
    "else:\n",
    "    x = -b / a\n",
    "    print(f\"Nghiệm của phương trình: x = {x}\")\n"
   ]
  },
  {
   "cell_type": "code",
   "execution_count": 4,
   "metadata": {},
   "outputs": [
    {
     "name": "stdout",
     "output_type": "stream",
     "text": [
      "Phương trình có 2 nghiệm phân biệt:\n",
      "\n",
      "x1 = (-b +(delta*0.5))/ 2a =  0.75\n",
      "\n",
      "x2 = (-b -(delta*0.5))/ 2a =  -5.75\n"
     ]
    }
   ],
   "source": [
    "#Bài 19: Giải và biện luận phương trình ax^2 + bx + c = 0\n",
    "\n",
    "a = float(input(\"Nhập hệ số a: \"))\n",
    "b = float(input(\"Nhập hệ số b: \"))\n",
    "c = float(input(\"Nhập hệ số c: \"))\n",
    "\n",
    "#Trường hợp a = 0\n",
    "if a == 0:\n",
    "    if b == 0:\n",
    "        if c == 0:\n",
    "            print (\"Phương trình có vô số nghiệm\")\n",
    "        else:\n",
    "            print (\"Phương trình vô nghiệm\")\n",
    "    else:\n",
    "        x = -c / b\n",
    "        print (\"Nghiệm của phương trình: x = {}\".format(x))\n",
    "        \n",
    "#Trường hợp a != 0\n",
    "\n",
    "else:\n",
    "    delta = b**2 - 4*a*c\n",
    "    if delta == 0:\n",
    "        print (\"Phương trình có nghiệm kép: x = -b/2a = \", -b/(2*a))\n",
    "    elif delta < 0:\n",
    "        print (\"Phương trình vô nghiệm\")\n",
    "    else:\n",
    "        print (\"Phương trình có 2 nghiệm phân biệt:\")\n",
    "        print ()\n",
    "        print (\"x1 = (-b +(delta*0.5))/ 2a = \", (-b +(delta*0.5))/ (2*a))\n",
    "        print ()\n",
    "        print (\"x2 = (-b -(delta*0.5))/ 2a = \", (-b -(delta*0.5))/ (2*a))"
   ]
  },
  {
   "cell_type": "code",
   "execution_count": 8,
   "metadata": {},
   "outputs": [
    {
     "name": "stdout",
     "output_type": "stream",
     "text": [
      "Tháng 1 năm 4 có 31 ngày\n"
     ]
    }
   ],
   "source": [
    "#Bài 20: Nhập tháng, năm. Hãy cho biết tháng đó có bao nhiêu ngày\n",
    "\n",
    "month = int(input(\"Nhập tháng: \"))\n",
    "year = int(input(\"Nhập năm: \"))\n",
    "\n",
    "while month < 1 or month > 12:\n",
    "    print (\"Không có tháng\", month, \"xin nhập lại\")\n",
    "    month = int(input(\"Nhập lại tháng: \"))\n",
    "\n",
    "while year < 0:\n",
    "    print (\"Năm\", year, \"không hợp lệ, xin nhập lại\")\n",
    "    year = int(input(\"Nhập lại năm\"))\n",
    "    \n",
    "day = 0\n",
    "#Các tháng bình thường\n",
    "if month in [1, 3, 5, 7, 8, 10, 12]:\n",
    "    day = 31\n",
    "elif month in [4, 6, 9, 11]:\n",
    "    day = 30\n",
    "\n",
    "elif month == 2: #Cho tháng 2\n",
    "    if year % 4 == 0 and year % 100 != 0:\n",
    "        day = 29\n",
    "    elif year % 400 == 0:\n",
    "        day = 29\n",
    "    else:\n",
    "        day = 28\n",
    "        \n",
    "print (\"Tháng\", month, \"năm\", year, \"có\", day, \"ngày\")"
   ]
  },
  {
   "cell_type": "code",
   "execution_count": 9,
   "metadata": {},
   "outputs": [
    {
     "name": "stdout",
     "output_type": "stream",
     "text": [
      "Ngày 15 tháng 6 là ngày thứ 166 trong năm.\n"
     ]
    }
   ],
   "source": [
    "#Bài 21: Nhập vào ngày, tháng. Hãy tính và in ra xem ngày nhập vào cách ngày đầu năm bao nhiêu ngày (giả sư năm đó không phải là năm nhuận)\n",
    "\n",
    "# Nhập vào ngày và tháng\n",
    "day = int(input(\"Nhập ngày: \"))\n",
    "month = int(input(\"Nhập tháng: \"))\n",
    "\n",
    "# Kiểm tra ngày và tháng hợp lệ\n",
    "while day < 1 or day > 31:\n",
    "    print (\"Ngày không hợp lệ. Xin nhập lại\")\n",
    "    day = int(input(\"Nhập lại ngày: \"))\n",
    "\n",
    "while month < 1 or month > 12:\n",
    "    print(\"Tháng không hợp lệ. Xin nhập lại\")\n",
    "    month = int(input(\"Nhập lại tháng: \"))\n",
    "\n",
    "# Số ngày từ đầu năm đến ngày đã nhập\n",
    "days_in_month = [0, 31, 28, 31, 30, 31, 30, 31, 31, 30, 31, 30, 31] #Số đầu tiên = 0 vì không có tháng 0\n",
    "\n",
    "if 1 <= month <= 12:\n",
    "    total_days = sum(days_in_month[1:month]) + day #nó sẽ tính tổng từ ngày đầu tiên tới ngay trước tháng bạn nhập. Rồi sau đó nó sẽ tính thêm cái ngày bạn nhập\n",
    "    print(f\"Ngày {day} tháng {month} là ngày thứ {total_days} trong năm.\")\n",
    "else:\n",
    "    print(\"Tháng không hợp lệ.\")"
   ]
  },
  {
   "cell_type": "code",
   "execution_count": 19,
   "metadata": {},
   "outputs": [
    {
     "name": "stdout",
     "output_type": "stream",
     "text": [
      "Học sinh giỏi\n"
     ]
    }
   ],
   "source": [
    "math = float(input(\"Nhập điểm toán: \"))\n",
    "lit = float(input(\"Nhập điểm văn: \"))\n",
    "eng = float(input(\"Nhập điểm anh: \"))\n",
    "\n",
    "while math <0 or math > 10:\n",
    "    print (\"Điểm không hợp lệ. Xin nhập lại\")\n",
    "    math = float(input(\"Nhập lại điểm toán: \"))\n",
    "    \n",
    "while lit <0 or lit > 10:\n",
    "    print (\"Điểm không hợp lệ. Xin nhập lại\")\n",
    "    lit = float(input(\"Nhập lại điểm văn: \"))\n",
    "\n",
    "while eng <0 or eng > 10:\n",
    "    print (\"Điểm không hợp lệ. Xin nhập lại\")\n",
    "    eng = float(input(\"Nhập lại điểm anh: \"))\n",
    "    \n",
    "avr = (math + lit + eng) / 3\n",
    "\n",
    "#Cách 1: bình thường\n",
    "if avr >= 8 and math >= 6.5 and lit >= 6.5 and eng >= 6.5:\n",
    "    print (\"Học sinh giỏi\")\n",
    "#Cách 2: (list comprehension)\n",
    "#if avr >= 8 and all(subject >= 6.5 for subject in [math, lit, eng]):\n",
    "\n",
    "elif avr < 8 and avr >= 6.5 and all(subject>=5 for subject in [math, lit, eng]):\n",
    "    print (\"Học sinh khá\")\n",
    "elif avr < 6.5 and avr >= 5 and all (subject >= 3.5 for subject in [math, lit, eng]):\n",
    "    print (\"Học sinh trung bình\")\n",
    "elif avr < 5 and avr >= 3.5 and all (subject > 2 for subject in [math, lit, eng]):\n",
    "    print (\"Học sinh yếu\")\n",
    "else:\n",
    "    print (\"Học sinh kém\")"
   ]
  }
 ],
 "metadata": {
  "kernelspec": {
   "display_name": "base",
   "language": "python",
   "name": "python3"
  },
  "language_info": {
   "codemirror_mode": {
    "name": "ipython",
    "version": 3
   },
   "file_extension": ".py",
   "mimetype": "text/x-python",
   "name": "python",
   "nbconvert_exporter": "python",
   "pygments_lexer": "ipython3",
   "version": "3.11.4"
  }
 },
 "nbformat": 4,
 "nbformat_minor": 2
}
